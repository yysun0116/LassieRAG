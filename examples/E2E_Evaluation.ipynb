{
 "cells": [
  {
   "cell_type": "code",
   "execution_count": null,
   "metadata": {},
   "outputs": [],
   "source": [
    "# Initialize OpenSearch client\n",
    "!sudo docker run -p 9200:9200 -p 9600:9600 -e \"discovery.type=single-node\" -e \"plugins.security.disabled=true\" opensearchproject/opensearch:2.11.0"
   ]
  },
  {
   "cell_type": "code",
   "execution_count": 2,
   "metadata": {},
   "outputs": [
    {
     "name": "stderr",
     "output_type": "stream",
     "text": [
      "/home/ubuntu/lassierag/.venv/lib/python3.12/site-packages/tqdm/auto.py:21: TqdmWarning: IProgress not found. Please update jupyter and ipywidgets. See https://ipywidgets.readthedocs.io/en/stable/user_install.html\n",
      "  from .autonotebook import tqdm as notebook_tqdm\n"
     ]
    }
   ],
   "source": [
    "import dotenv\n",
    "dotenv.load_dotenv(override=True)\n",
    "\n",
    "import os\n",
    "import json\n",
    "import yaml\n",
    "import asyncio\n",
    "import nest_asyncio\n",
    "from lassie.core.model_loader import ModelLoader\n",
    "from lassie.core.data_reader import DataReader\n",
    "from lassie.core.node_transformer import PreProcessorBuilder\n",
    "from lassie.core.indices import IndexLoader \n",
    "from lassie.core.retriever import RetrieverBuilder\n",
    "from lassie.core.postprocessor import PostProcessorBuilder\n",
    "from lassie.core.synthesizer import SynthesizerBuilder\n",
    "from lassie.core.query_engine import QueryEngineBuilder\n",
    "from lassie.core.evaluation.runner import RAGEvaluationRunner\n",
    "\n",
    "nest_asyncio.apply()\n",
    "HF_token = os.getenv(\"HF_ASSESS_TOKEN\")"
   ]
  },
  {
   "cell_type": "markdown",
   "metadata": {},
   "source": [
    "## RAG pipeline\n",
    "各階段皆分為Direct及Configuration-based Initialization\n",
    " 1. LLM/ Embedding model loading\n",
    " 2. Data loading\n",
    " 3. (Optional) Node transformations setting\n",
    " 4. Indexing\n",
    " 5. Retriever initialization\n",
    " 6. (Optional) Node postprocessors setting\n",
    " 7. Synthesizer initialization\n",
    " 8. Query engine initialization (若使用Configuration-based可直接執行8.)"
   ]
  },
  {
   "cell_type": "code",
   "execution_count": 3,
   "metadata": {},
   "outputs": [
    {
     "name": "stdout",
     "output_type": "stream",
     "text": [
      "2024-12-24 17:36:44 - lassie.core.model_loader.hf_loader - loading the model and tokenizer of meta-llama/Meta-Llama-3.1-8B-Instruct...\n",
      "2024-12-24 17:36:46 - accelerate.utils.modeling - We will use 90% of the memory on device 0 for storing the model, and 10% for the buffer to avoid OOM. You can set `max_memory` in to a higher value to use more memory (at your own risk).\n"
     ]
    },
    {
     "name": "stderr",
     "output_type": "stream",
     "text": [
      "Loading checkpoint shards: 100%|██████████| 4/4 [00:09<00:00,  2.33s/it]\n"
     ]
    },
    {
     "name": "stdout",
     "output_type": "stream",
     "text": [
      "2024-12-24 17:36:56 - lassie.core.model_loader.hf_loader - query:  and passage:  will be used as the query and text instruction, respectively.\n",
      "2024-12-24 17:36:56 - lassie.core.model_loader.hf_loader - loading embedding model intfloat/multilingual-e5-large...\n",
      "2024-12-24 17:36:56 - sentence_transformers.SentenceTransformer - Load pretrained SentenceTransformer: intfloat/multilingual-e5-large\n",
      "2024-12-24 17:37:01 - sentence_transformers.SentenceTransformer - 2 prompts are loaded, with the keys: ['query', 'text']\n",
      "2024-12-24 17:37:01 - lassie.core.model_loader.hf_loader - loading the tokenizer of embedding model...\n"
     ]
    }
   ],
   "source": [
    "# 1. LLM/ Embedding model loading\n",
    "## Direct Initialization\n",
    "rag_models = ModelLoader(llm_source = \"huggingface\", embed_model_source = \"huggingface\")\n",
    "rag_models._llm, rag_models._llm_tokenizer = rag_models.load_llm(\n",
    "    model_name = \"meta-llama/Meta-Llama-3.1-8B-Instruct\",\n",
    "    hf_token = os.getenv(\"HF_ASSESS_TOKEN\"),\n",
    "    context_window = 131072,\n",
    "    quantization_type = \"4bit\",\n",
    "    torch_dtype = \"fp16\",\n",
    "    is_chat_model = True,\n",
    "    model_kwargs = {},\n",
    "    tokenizer_kwargs = {},\n",
    ")\n",
    "rag_models._embed_model, rag_models._embed_model_tokenizer = rag_models.load_embedding_model(\n",
    "    model_name = \"intfloat/multilingual-e5-large\",\n",
    "    max_length = 512,\n",
    "    prefix_tokens = (\"query: \", \"passage: \"),\n",
    ")\n",
    "\n",
    "## Configuration-based Initialization\n",
    "# model_config = {\n",
    "#     # \"LLM\": {\n",
    "#     #     \"source\": \"huggingface\",\n",
    "#     #     \"model_name\": \"google/gemma-2-2b-it\",\n",
    "#     #     \"hf_token\": os.getenv(\"HF_ASSESS_TOKEN\"),\n",
    "#     #     \"context_window\": 8192,\n",
    "#     #     \"quantization_type\": \"4bit\",\n",
    "#     #     \"model_kwargs\": {\n",
    "#     #     },\n",
    "#     #     \"torch_dtype\": \"fp16\",\n",
    "#     #     \"is_chat_model\": True,\n",
    "#     # },\n",
    "#     \"Embedding_model\": {\n",
    "#         \"source\": \"huggingface\",\n",
    "#         \"model_name\": \"intfloat/multilingual-e5-large\",\n",
    "#         \"max_length\": 512,\n",
    "#         \"prefix_tokens\": (\"query:\", \"passage:\")\n",
    "#     }\n",
    "# }\n",
    "# rag_models = ModelLoader.from_config(config = model_config)"
   ]
  },
  {
   "cell_type": "code",
   "execution_count": 4,
   "metadata": {},
   "outputs": [
    {
     "name": "stdout",
     "output_type": "stream",
     "text": [
      "2024-12-24 17:37:04 - lassie.core.data_reader.factory - Using the simple_dir reader...\n"
     ]
    }
   ],
   "source": [
    "# 2. Data loading\n",
    "## Direct Initialization\n",
    "data_reader = DataReader(reader_type=\"simple_dir\")\n",
    "data_source = data_reader.load(input_dir = \"/home/ubuntu/dataset/etc/source_files\", required_exts = [\".pdf\", \".docx\"])\n",
    "\n",
    "\n",
    "## Configuration-based Initialization\n",
    "# data_config = {\n",
    "#     \"reader_type\": \"simple_dir\",\n",
    "#     \"input_dir\": \"/dataset/etc/source_files\",\n",
    "#     \"required_exts\": [\".pdf\", \".docx\"]\n",
    "# }\n",
    "# data_source = DataReader.from_config(config=data_config)"
   ]
  },
  {
   "cell_type": "code",
   "execution_count": 5,
   "metadata": {},
   "outputs": [
    {
     "name": "stdout",
     "output_type": "stream",
     "text": [
      "2024-12-24 17:37:08 - lassie.core.node_transformer.chunking - Initializing sentence_window splitter...\n"
     ]
    }
   ],
   "source": [
    "# 3. (Optional) Node transformations setting\n",
    "## Direct Initialization\n",
    "preprocessor_builder = PreProcessorBuilder(loaded_models = rag_models)\n",
    "preprocessor_chunker = preprocessor_builder.build_processor(processor_type=\"chunking\", chunk_method = \"sentence_window\", window_size = 1)\n",
    "preprocessors = [preprocessor_chunker]\n",
    "\n",
    "## Configuration-based Initialization\n",
    "# preprocess_config = {\n",
    "#     \"chunking\":{\n",
    "#         \"chunk_method\": \"sentence_window\",\n",
    "#         \"window_size\": 1,\n",
    "#     },\n",
    "# }\n",
    "# preprocessors = PreProcessorBuilder.from_config(loaded_models = rag_models, config=preprocess_config)"
   ]
  },
  {
   "cell_type": "code",
   "execution_count": null,
   "metadata": {},
   "outputs": [
    {
     "name": "stdout",
     "output_type": "stream",
     "text": [
      "2024-12-24 17:37:12 - lassie.core.indices.opensearch - Pipeine <hybrid_search> exist!\n",
      "2024-12-24 17:37:12 - lassie.core.indices.opensearch - Index <etc_sentence_window_1> exist! Loading index from vector database...\n"
     ]
    },
    {
     "name": "stderr",
     "output_type": "stream",
     "text": [
      "Batches: 100%|██████████| 1/1 [00:00<00:00,  1.69it/s]"
     ]
    },
    {
     "name": "stdout",
     "output_type": "stream",
     "text": [
      "2024-12-24 17:37:13 - opensearch - GET http://localhost:9200/etc_sentence_window_1 [status:200 request:0.006s]\n"
     ]
    },
    {
     "name": "stderr",
     "output_type": "stream",
     "text": [
      "\n"
     ]
    }
   ],
   "source": [
    "# 4. Indexing\n",
    "## search pipeline config\n",
    "search_pipeline_config = {\n",
    "  \"description\": \"Post processor for hybrid search\",\n",
    "  \"phase_results_processors\": [\n",
    "    {\n",
    "      \"normalization-processor\": {\n",
    "        \"normalization\": {\n",
    "          \"technique\": \"min_max\"\n",
    "        },\n",
    "        \"combination\": {\n",
    "          \"technique\": \"arithmetic_mean\",\n",
    "          \"parameters\": {\n",
    "            \"weights\": [\n",
    "              0.3,\n",
    "              0.7\n",
    "            ]\n",
    "          }\n",
    "        }\n",
    "      }\n",
    "    }\n",
    "  ]\n",
    "}\n",
    "\n",
    "## Direct Initialization\n",
    "index_loader = IndexLoader(loaded_models = rag_models, database_type = \"opensearch\")\n",
    "index = index_loader.load(\n",
    "    data_source=data_source, \n",
    "    node_transformations=preprocessors, \n",
    "    host = \"http://localhost:9200\",\n",
    "    http_auth = (\"admin\", \"admin\"),\n",
    "    index_name = \"etc_sentence_window_1\",\n",
    "    search_pipeline_name = \"hybrid_search\",\n",
    "    search_pipeline_config = search_pipeline_config,\n",
    ")\n",
    "\n",
    "## Configuration-based Initialization\n",
    "# index_config = {\n",
    "#     \"database_type\": \"opensearch\",\n",
    "#     \"host\": \"http://localhost:9200\",\n",
    "#     \"http_auth\": (\"admin\", \"admin\"),\n",
    "#     \"index_name\": \"etc_sentence_window_1\",\n",
    "#     \"search_pipeline_name\": \"hybrid_search\",\n",
    "#     \"search_pipeline_config\": search_pipeline_config,\n",
    "# }\n",
    "# index = IndexLoader.from_config(loaded_models = rag_models, config=index_config, node_transformations=preprocessors, data_source=data_source)"
   ]
  },
  {
   "cell_type": "code",
   "execution_count": 8,
   "metadata": {},
   "outputs": [
    {
     "name": "stdout",
     "output_type": "stream",
     "text": [
      "2024-12-24 17:37:38 - lassie.core.retriever.builder - The vector_index retriever will be initialized\n"
     ]
    }
   ],
   "source": [
    "# 5. Retriever initialization\n",
    "## Direct Initialization\n",
    "retriever_builder = RetrieverBuilder(loaded_models = rag_models, retriever_type = \"vector_index\")\n",
    "retriever = retriever_builder.build(index = index, similarity_top_k = 5, vector_store_query_mode = \"hybrid\")\n",
    "\n",
    "## Configuration-based Initialization\n",
    "# retriever_config = {\n",
    "#     \"retriever_type\": \"vector_index\",\n",
    "#     \"similarity_top_k\": 5,\n",
    "#     \"vector_store_query_mode\": \"hybrid\",\n",
    "# }\n",
    "# retriever = RetrieverBuilder.from_config(loaded_models = rag_models, index = index, config = retriever_config)"
   ]
  },
  {
   "cell_type": "code",
   "execution_count": 9,
   "metadata": {},
   "outputs": [],
   "source": [
    "# 6. (Optional) Node postprocessors setting\n",
    "## Direct Initialization\n",
    "postprocessors_builder = PostProcessorBuilder(loaded_models = rag_models)\n",
    "postprocessor_metadata = postprocessors_builder.build_processor(processor_type=\"metadata_replace\", target_metadata_key = \"window\")\n",
    "postprocessors = [postprocessor_metadata]\n",
    "\n",
    "## Configuration-based Initialization\n",
    "# postprocess_config = {\n",
    "#     \"metadata_replace\": {\n",
    "#         \"target_metadata_key\": \"window\",\n",
    "#     }\n",
    "# }\n",
    "# postprocessors = PostProcessorBuilder.from_config(loaded_models = rag_models, config = postprocess_config)"
   ]
  },
  {
   "cell_type": "code",
   "execution_count": 10,
   "metadata": {},
   "outputs": [],
   "source": [
    "# 7. Synthesizer initialization\n",
    "## Direct Initialization\n",
    "synthesizer_builder = SynthesizerBuilder(loaded_models = rag_models)\n",
    "synthesizer = synthesizer_builder.build(response_mode = \"multiqa\", streaming = False)\n",
    "\n",
    "## Configuration-based Initialization\n",
    "# synthesizer_config = {\n",
    "#     \"response_mode\": \"multiqa\",\n",
    "#     \"streaming\": False\n",
    "# }\n",
    "\n",
    "# synthesizer = SynthesizerBuilder.from_config(loaded_models = rag_models, config = synthesizer_config)"
   ]
  },
  {
   "cell_type": "code",
   "execution_count": 13,
   "metadata": {},
   "outputs": [],
   "source": [
    "# 8. Query engine initialization\n",
    "## Direct Initialization\n",
    "query_engine =  QueryEngineBuilder(retriever=retriever, synthesizer=synthesizer, postprocessors=postprocessors).build()\n",
    "\n",
    "## Configuration-based Initialization (不需要前面所有的流程)\n",
    "# with open(\"/lassierag/scripts/rag_config.yml\", \"r\") as file:\n",
    "#     config = yaml.safe_load(file)\n",
    "\n",
    "# query_engine = QueryEngineBuilder.from_config(config=config)"
   ]
  },
  {
   "cell_type": "markdown",
   "metadata": {},
   "source": [
    "## Evaluation Data Preparation\n",
    "Evaluation batch runner 中可使用的 input 有三種：  \n",
    "1. queries + query_engine\n",
    "2. queries + response_objs\n",
    "3. queries + contexts + responses"
   ]
  },
  {
   "cell_type": "code",
   "execution_count": 14,
   "metadata": {},
   "outputs": [
    {
     "name": "stderr",
     "output_type": "stream",
     "text": [
      "Batches:   0%|          | 0/1 [00:00<?, ?it/s]"
     ]
    },
    {
     "name": "stderr",
     "output_type": "stream",
     "text": [
      "Batches: 100%|██████████| 1/1 [00:00<00:00, 60.69it/s]\n",
      "Batches: 100%|██████████| 1/1 [00:00<00:00, 71.60it/s]"
     ]
    },
    {
     "name": "stdout",
     "output_type": "stream",
     "text": [
      "2024-12-24 17:39:34 - opensearch - POST http://localhost:9200/etc_sentence_window_1/_search?search_pipeline=hybrid_search [status:200 request:0.056s]\n"
     ]
    },
    {
     "name": "stderr",
     "output_type": "stream",
     "text": [
      "\n",
      "/home/ubuntu/lassierag/.venv/lib/python3.12/site-packages/transformers/generation/configuration_utils.py:590: UserWarning: `do_sample` is set to `False`. However, `temperature` is set to `0.6` -- this flag is only used in sample-based generation modes. You should set `do_sample=True` or unset `temperature`.\n",
      "  warnings.warn(\n",
      "/home/ubuntu/lassierag/.venv/lib/python3.12/site-packages/transformers/generation/configuration_utils.py:595: UserWarning: `do_sample` is set to `False`. However, `top_p` is set to `0.9` -- this flag is only used in sample-based generation modes. You should set `do_sample=True` or unset `top_p`.\n",
      "  warnings.warn(\n",
      "Setting `pad_token_id` to `eos_token_id`:None for open-end generation.\n"
     ]
    },
    {
     "name": "stdout",
     "output_type": "stream",
     "text": [
      "2024-12-24 17:39:49 - opensearch - POST http://localhost:9200/etc_sentence_window_1/_search?search_pipeline=hybrid_search [status:200 request:15.172s]\n"
     ]
    },
    {
     "name": "stderr",
     "output_type": "stream",
     "text": [
      "Setting `pad_token_id` to `eos_token_id`:None for open-end generation.\n"
     ]
    }
   ],
   "source": [
    "# Evaluation dataset\n",
    "## Loading dataset\n",
    "etc_multiqa = []\n",
    "with open(\"/home/ubuntu/dataset/fareastern_etc_multiqa.json\", \"r\") as f:\n",
    "    for line in f:\n",
    "        etc_multiqa.append(json.loads(line))\n",
    "\n",
    "## Prepare evaluation data\n",
    "#queries = [d[\"question\"] for d in etc_multiqa] # queries in dataset\n",
    "queries = [\n",
    "    \"請詳述異動手機號碼需要核對甚麼資料，如幾個動態資料幾個靜態資料與備註說明?\", \n",
    "    \"請問9/19公告有幾筆，公告內容是什麼\"\n",
    "]\n",
    "\n",
    "\n",
    "## Options\n",
    "#### Input set 1: query_engine ####\n",
    "query_engine\n",
    "#### Input set 2: response_objs ####\n",
    "query_tasks = [query_engine.aquery(q) for q in queries]\n",
    "response_objs = await asyncio.gather(*query_tasks)\n",
    "\n",
    "#### Input set 3: context_list (list of list of str), responses (list of str) ####\n",
    "# contexts_list = [[node.text for node in response_obj.source_nodes] for response_obj in response_objs]\n",
    "# response = [response_obj.response for response_obj in response_objs]\n",
    "contexts_list = [\n",
    "    [\n",
    "        \"112年中秋節及國慶日連假國道交通疏運計畫QA Q：中秋節及國慶日連續假期通行費計算方式為何? A：112年中秋連續假期(112年9月29日至10月1日)及國慶日連續假期(112年10月7日至10月10日)採單一費率，小型車0.9元/公里、大型車1.12元/公里、聯結車1.35元/公里，無每日20公里優惠里程及長途折扣。 Q：中秋節及國慶日連續假期通行免收費時段從何開始? A： 2023中秋連續假期從112年9月29日至10月1日，每日0-5時國道全線暫停收費。 2023國慶連續假期從112年10月7日至10月10日，每日0-5時國道全線暫停收費。 Q：eTag用戶還有再打9折嗎? A：有的，eTag用戶若是預儲帳戶足額扣款，通行費一樣享有再9折優惠。 Q：請問我要怎麼查詢2023中秋節及國慶日連續假期的費率? A：112年端午節連續假期(112年6月22日至112年6月2)連續假期採單一費率，小型車0.9元/公里、大型車1.12元/公里、聯結車1.35元/公里，無每日20公里優惠里程及長途折扣。 有關國道疏運措施可上高公局網站查詢。https://fare.fetc.net.tw/Publish.aspx?cnid=2&p=1716\",\n",
    "        \"公告時間：2023/9/20 (週三) 下午 06:58 公告類型：作業流程 主旨：營運場變更IP通知_P2500346俥亭左營高鐵機車 內容說明： 【營運場變更IP通知】 案場狀態 場站編號 停車場據點名稱 新IP 原IP 通知日期 開單日期 影響日期 預計完成日 類型 OPR單編號 營運中 P2500346 俥亭左營高鐵機車 114.35.116.236 220.132.29.92 2023/09/20 2023/09/20 2023/09/20 2023/09/26 車辨場 OPR-12663\", \"一、等級：高敏感(核資項目參考備註說明) 核資項目：2靜1動 服務內容： 1. 異動手機號碼(備註：變更原手機號碼(必核)，若無法提供時，客服可委婉引導至門市，若客訴抱怨可詢問主管個案處理。) 2. 辦理終止退費轉儲(備註：依辦理終止退費轉儲作業流程辦理，請確認欲轉儲的車號及證號。) 3. 查詢通行起訖點/路段明細 4. 會員帳號-異動 (移除車輛連結)(備註：需車主或會員帳號本人辦理，若無法核資時，請依「刪除帳號及移除車輛說明」處理) 5. 會員帳號-異動 (修改資料、刪除帳號)(備註：需會員本人辦理，需核對「會員帳號、會員證號、會員姓名、電子信箱、行動電話」，若無法核資時，請「依刪除帳號及移除車輛作業處理 」)\",\n",
    "        \"1.1.1 工程概述 (1) 本工程之範圍位於國道 3 號樹林北上地磅站進站前主線路段建置主線篩 選式動態地磅系統，配合路側資訊可變標誌版顯示免入靜態地磅之重車 車號，由重車智慧管理軟體篩選出無超載之虞車輛得免入靜態地磅之措 施，並包含與相關系統之介接與整合工程。期望透過本系統之建置，減 特訂條款-2 緩高速公路重車之超載行為，提昇重車行車效率、強化重車管理效能。 (2) 本工程包含動態地磅設備、資訊可變標誌(CMS)、車輛偵測器(VD)、車牌 辨識系統(AVI)、閉路電視攝影機(CCTV)、傳輸系統(含伺服器)、鋼構、 土木管道等及其相關配合工作。 (3) 本工程各項設施應整合至北區「重車智慧管理系統」公版軟體整合系統 運作操控，並負責系統介接及整合測試。 \",\n",
    "        \"車號確認：   1. 車號＋姓名   2. 車號＋統編 ◆優先確認姓名，不知姓名時可確認統編 靜態資料：   1. 手機號碼(優先確認)   2. 車主證號   3. 車輛廠牌   4. eTag黏貼位置 ◆ 若手機號碼無法提供，可依序核資 動態資料：   1. 最近一次加值金額   2. 最近一次加值地點   3. 是否申辦自動儲值   4. 自動儲值的扣款銀行   5. 是否有申請個人專區帳號   6. 3天前是否曾行駛高速公路   7. 近一個月是否進線過客服   8. 是否有申請電子帳單的服務   9. 名下共有幾台車輛申裝eTag   10. eTag申請超過3個月、半年、一年 \",\n",
    "    ],\n",
    "    [\n",
    "        \"一、等級：高敏感(核資項目參考備註說明) 核資項目：2靜1動 服務內容： 1. 異動手機號碼(備註：變更原手機號碼(必核)，若無法提供時，客服可委婉引導至門市，若客訴抱怨可詢問主管個案處理。) 2. 辦理終止退費轉儲(備註：依辦理終止退費轉儲作業流程辦理，請確認欲轉儲的車號及證號。) 3. 查詢通行起訖點/路段明細 4. 會員帳號-異動 (移除車輛連結)(備註：需車主或會員帳號本人辦理，若無法核資時，請依「刪除帳號及移除車輛說明」處理) 5. 會員帳號-異動 (修改資料、刪除帳號)(備註：需會員本人辦理，需核對「會員帳號、會員證號、會員姓名、電子信箱、行動電話」，若無法核資時，請「依刪除帳號及移除車輛作業處理 」)\", \n",
    "        \"公告日期：2023/9/19 (週二) 下午 10:13 公告類型：系統維護與更版 主旨：2023/09/18 遠創服務暫停事件通報單 內容說明： 有關BOM通報2023/09/19(二) 22:00 ~ 2023/09/20(三) 08:00 ETC資料庫主機升級作業，相關影響及因應措施整理如下，感謝。 影響服務：   • 減碳車幣兌換儲值金   • 數位帳戶自動儲   • 街口支付單次儲值   • OPEN POINT兌換儲值金   • 全家會員點數兌換儲值金   • HAPPY GO兌換儲值金   • 餘額查詢服務  公告日期：2023/9/19 (週二) 下午 10:13 公告類型：系統維護與更版 主旨：2023/09/18 遠創服務暫停事件通報單 內容說明： 有關BOM通報2023/09/19(二) 22:00 ~ 2023/09/20(三) 08:00 ETC資料庫主機升級作業，相關影響及因應措施整理如下，感謝。 影響服務：   • 減碳車幣兌換儲值金   • 數位帳戶自動儲   • 街口支付單次儲值   • OPEN POINT兌換儲值金   • 全家會員點數兌換儲值金   • HAPPY GO兌換儲值金   • 餘額查詢服務  因應措施： uTagGo Web-首頁公告：依上版日~9/20(三)08:00露出 【服務公告】 9/19(二)22:00~9/20(三)08:00因系統維護影響uTagGo App 下列服務無法使用，造成不便，敬請見諒 uTagGo App-公告頁：9/19(二)22:00~9/20(三)08:00露出 【服務公告】 9/19(二)22:00~9/20(三)08:00因系統維護影響uTagGo App 下列服務無法使用，造成不便，敬請見諒 uTagGo App-通知中心：上版日~10/18(三)00:00止露出 【服務公告】 9/19(二)22:00~9/20(三)08:00因系統維護影響uTagGo App 下列服務無法使用，造成不便，敬請見諒 影響服務：   • 減碳車幣兌換儲值金、數位帳戶自動儲、街口支付單次儲值、OPEN POINT兌換儲值金、全家會員點數兌換儲值金、HAPPY GO兌換儲值金、餘額查詢服務;\", \n",
    "        \"公告日期：2023/9/14 (週四) 下午 11:58 公告類型：作業流程 主旨：嘟嘟房車辨異常好發案場「開啟」180天會員進出場通知發送邏輯 內容說明： 針對嘟嘟房車辨異常好發案場，將於9/15恢復180天會員通知邏輯， 故會員進出場通知發送邏輯資訊更新如附件檔案， eTag停車扣繳合作停車場資訊(停車場大表) 內之「會員進出場通知發送邏輯」頁籤，將於下一次公告檔案時同步更新。 車辨異常好發案場如下： 1.    P6901004嘟嘟房建國高架北站 2. P9600031嘟嘟房宏匯瑞光 3. P9600091嘟嘟房松山八德 4. P9600075嘟嘟房汐止茄苳 5.P9600074嘟嘟房汐止金龍\", \n",
    "        \"112年中秋節及國慶日連假國道交通疏運計畫QA Q：中秋節及國慶日連續假期通行費計算方式為何? A：112年中秋連續假期(112年9月29日至10月1日)及國慶日連續假期(112年10月7日至10月10日)採單一費率，小型車0.9元/公里、大型車1.12元/公里、聯結車1.35元/公里，無每日20公里優惠里程及長途折扣。 Q：中秋節及國慶日連續假期通行免收費時段從何開始? A： 2023中秋連續假期從112年9月29日至10月1日，每日0-5時國道全線暫停收費。 2023國慶連續假期從112年10月7日至10月10日，每日0-5時國道全線暫停收費。 Q：eTag用戶還有再打9折嗎? A：有的，eTag用戶若是預儲帳戶足額扣款，通行費一樣享有再9折優惠。 Q：請問我要怎麼查詢2023中秋節及國慶日連續假期的費率? A：112年端午節連續假期(112年6月22日至112年6月2)連續假期採單一費率，小型車0.9元/公里、大型車1.12元/公里、聯結車1.35元/公里，無每日20公里優惠里程及長途折扣。 有關國道疏運措施可上高公局網站查詢。https://fare.fetc.net.tw/Publish.aspx?cnid=2&p=1716\", \n",
    "        \"廠商須於開工次日起 45 日曆天完成設備(協力商)採購訂單 廠商應於試運轉前 30 日曆天提出整體功能試運轉計畫書，提報工程司核定後，始得辦理試運轉作業。 於整體功能試運轉檢測開始後 20 日曆天內擬定保固期間定期保養工作計畫，包括各系統之定期保養維護預定時間表 (所規定每半年及每年週 期之維護及檢查項目在契約結束前最後一個月，須要執行一次檢查)，提 送甲方核可後實施，使保固期間之定期保養維護工作能按照一定之日程進行。 廠商須於本工程可靠性測試完成後 14 個日曆天內將其保固養護小組組織架構、任務編組、權責分工、人員名單等詳細內容資料，提送甲方核可。\"\n",
    "    ],\n",
    "]\n",
    "responses = [\n",
    "    \"異動手機號碼需要核對的資料包括靜態資料和動態資料。靜態資料需要核對手機號碼（優先確認）、車主證號、車輛廠牌及eTag黏貼位置[3][5]。動態資料則包括最近一次加值金額、最近一次加值地點、是否申辦自動儲值、自動儲值的扣款銀行、是否有申請個人專區帳號、3天前是否曾行駛高速公路、近一個月是否進線過客服、是否有申請電子帳單的服務、名下共有幾台車輛申裝eTag、以及eTag申請超過3個月、半年、一年[5]。\\n\\n備註說明中提到，若無法提供原手機號碼，客服可委婉引導至門市辦理，若客訴抱怨則可詢問主管進行個案處理[3]。\", \n",
    "    \"2023年9月19日的公告有一筆，內容是關於ETC資料庫主機升級作業的系統維護與更版通知。該公告指出，2023年9月19日22:00至2023年9月20日08:00期間，因系統維護，uTagGo App的多項服務將暫停，包括減碳車幣兌換儲值金、數位帳戶自動儲值、街口支付單次儲值、OPEN POINT兌換儲值金、全家會員點數兌換儲值金、HAPPY GO兌換儲值金及餘額查詢服務[2]。\",\n",
    "]"
   ]
  },
  {
   "cell_type": "markdown",
   "metadata": {},
   "source": [
    "## Evaluation Runner\n"
   ]
  },
  {
   "cell_type": "code",
   "execution_count": 15,
   "metadata": {},
   "outputs": [
    {
     "name": "stdout",
     "output_type": "stream",
     "text": [
      "2024-12-24 17:40:16 - lassie.core.evaluation.runner - Evaluators used in this pipeline: ['context_relevance', 'faithfulness', 'response_relevance']\n"
     ]
    }
   ],
   "source": [
    "# Initialize evaluation pipeline runner\n",
    "eval_pipeline = RAGEvaluationRunner(num_worker = 4)"
   ]
  },
  {
   "cell_type": "code",
   "execution_count": 16,
   "metadata": {},
   "outputs": [],
   "source": [
    "# RAG 流程中的一些設定 (for mlflow)\n",
    "RAG_log = {\n",
    "    \"parameter_log\": {\n",
    "        \"RAG_embed_model\": \"intfloat/multilingual-e5-small\",\n",
    "        \"RAG_retrieval_method\": \"hybrid\",\n",
    "        \"RAG_preprocess_chunking\": \"sentence_window\",\n",
    "        \"RAG_preprocess_chunking_sentence_window\": {\"window_size\": 1},\n",
    "        \"RAG_model\": \"meta-llama/Meta-Llama-3.1-8B-Instruct\",\n",
    "    },\n",
    "    \"tag_log\": {\n",
    "        \"dataset\": \"etc_test\",\n",
    "        \"dataset_num\": 2,\n",
    "        \"use_chat_template\": True,\n",
    "        \"has_finetuned\": False,\n",
    "    },\n",
    "}"
   ]
  },
  {
   "cell_type": "code",
   "execution_count": 9,
   "metadata": {},
   "outputs": [
    {
     "name": "stdout",
     "output_type": "stream",
     "text": [
      "2024-10-29 14:59:00 - lassie.modules.evaluation.runner - queries, contexts, and responses will be used in the evaluation\n"
     ]
    },
    {
     "name": "stderr",
     "output_type": "stream",
     "text": [
      "100%|██████████| 6/6 [00:10<00:00,  1.68s/it]\n"
     ]
    },
    {
     "name": "stdout",
     "output_type": "stream",
     "text": [
      "2024-10-29 14:59:11 - botocore.credentials - Found credentials in environment variables.\n",
      "2024-10-29 14:59:14 - lassie.utils - Your experiment record at:\n",
      "2024-10-29 14:59:14 - lassie.utils - https://mlflow.phate.dev/#/experiments/192/runs/800665f372c140639c91e0a4b8b243ab\n"
     ]
    },
    {
     "data": {
      "image/png": "[encoded data removed]",
      "text/plain": [
       "<Figure size 1500x500 with 3 Axes>"
      ]
     },
     "metadata": {},
     "output_type": "display_data"
    }
   ],
   "source": [
    "# Run Evaluation pipeline\n",
    "rag_performance, rag_eval_by_metric = eval_pipeline.run(\n",
    "    queries = queries,\n",
    "    #### input set 1 #### (Easer!)\n",
    "    #query_engine = query_engine,\n",
    "    #### input set 2 ####\n",
    "    #response_objs= response_objs,\n",
    "    #### input set 3 #### (Faster!)\n",
    "    responses = responses,\n",
    "    contexts_list = contexts_list,\n",
    "    mlflow_run_name = \"llama3.1_etc_test\",\n",
    "    mlflow_logs = RAG_log,\n",
    "    output_dir=\"/home/ubuntu/RAG_Evaluation/output_test\"\n",
    ")"
   ]
  },
  {
   "cell_type": "code",
   "execution_count": 10,
   "metadata": {},
   "outputs": [
    {
     "data": {
      "text/html": [
       "<div>\n",
       "<style scoped>\n",
       "    .dataframe tbody tr th:only-of-type {\n",
       "        vertical-align: middle;\n",
       "    }\n",
       "\n",
       "    .dataframe tbody tr th {\n",
       "        vertical-align: top;\n",
       "    }\n",
       "\n",
       "    .dataframe thead th {\n",
       "        text-align: right;\n",
       "    }\n",
       "</style>\n",
       "<table border=\"1\" class=\"dataframe\">\n",
       "  <thead>\n",
       "    <tr style=\"text-align: right;\">\n",
       "      <th></th>\n",
       "      <th>query</th>\n",
       "      <th>contexts</th>\n",
       "      <th>response</th>\n",
       "      <th>context_relevance</th>\n",
       "      <th>faithfulness</th>\n",
       "      <th>response_relevance</th>\n",
       "    </tr>\n",
       "  </thead>\n",
       "  <tbody>\n",
       "    <tr>\n",
       "      <th>0</th>\n",
       "      <td>請詳述異動手機號碼需要核對甚麼資料，如幾個動態資料幾個靜態資料與備註說明?</td>\n",
       "      <td>[1] 一、等級：高敏感(核資項目參考備註說明)\\n\\n核資項目：2靜1動\\n\\n服務內容：...</td>\n",
       "      <td>根據提供的文件，異動手機號碼需要核對的資料如下：\\n\\n動態資料：[14][23][24]指...</td>\n",
       "      <td>0.5</td>\n",
       "      <td>0.375</td>\n",
       "      <td>0.747</td>\n",
       "    </tr>\n",
       "    <tr>\n",
       "      <th>1</th>\n",
       "      <td>請問9/19公告有幾筆，公告內容是什麼</td>\n",
       "      <td>[1] (1) 「整體施工（工作）計畫」報工務段（中心）。\\n\\n(2)核定「分項施工（工作...</td>\n",
       "      <td>根據提供的文件，9/19公告有兩筆，內容如下：\\n\\n1. 2.14日內完成初審，並將審查意...</td>\n",
       "      <td>0.0</td>\n",
       "      <td>0.250</td>\n",
       "      <td>0.380</td>\n",
       "    </tr>\n",
       "  </tbody>\n",
       "</table>\n",
       "</div>"
      ],
      "text/plain": [
       "                                   query  \\\n",
       "0  請詳述異動手機號碼需要核對甚麼資料，如幾個動態資料幾個靜態資料與備註說明?   \n",
       "1                    請問9/19公告有幾筆，公告內容是什麼   \n",
       "\n",
       "                                            contexts  \\\n",
       "0  [1] 一、等級：高敏感(核資項目參考備註說明)\\n\\n核資項目：2靜1動\\n\\n服務內容：...   \n",
       "1  [1] (1) 「整體施工（工作）計畫」報工務段（中心）。\\n\\n(2)核定「分項施工（工作...   \n",
       "\n",
       "                                            response  context_relevance  \\\n",
       "0  根據提供的文件，異動手機號碼需要核對的資料如下：\\n\\n動態資料：[14][23][24]指...                0.5   \n",
       "1  根據提供的文件，9/19公告有兩筆，內容如下：\\n\\n1. 2.14日內完成初審，並將審查意...                0.0   \n",
       "\n",
       "   faithfulness  response_relevance  \n",
       "0         0.375               0.747  \n",
       "1         0.250               0.380  "
      ]
     },
     "execution_count": 10,
     "metadata": {},
     "output_type": "execute_result"
    }
   ],
   "source": [
    "rag_performance"
   ]
  },
  {
   "cell_type": "code",
   "execution_count": 11,
   "metadata": {},
   "outputs": [
    {
     "data": {
      "text/plain": [
       "{'context_relevance': [{'query': '請詳述異動手機號碼需要核對甚麼資料，如幾個動態資料幾個靜態資料與備註說明?',\n",
       "   'contexts': ['一、等級：高敏感(核資項目參考備註說明)\\n\\n核資項目：2靜1動\\n\\n服務內容：\\n\\n異動手機號碼(備註：變更原手機號碼(必核)，若無法提供時，客服可委婉引導至門市，若客訴抱怨可詢問主管個案處理。)\\n\\n辦理終止退費轉儲(備註：依辦理終止退費轉儲作業流程辦理，請確認欲轉儲的車號及證號。)\\n\\n查詢通行起訖點/路段明細\\n\\n會員帳號-異動 (移除車輛連結)(備註：需車主或會員帳號本人辦理，若無法核資時，請依「刪除帳號及移除車輛說明」處理)\\n\\n會員帳號-異動 (修改資料、刪除帳號)(備註：需會員本人辦理，需核對「會員帳號、會員證號、會員姓名、電子信箱、行動電話」，若無法核資時，請「依刪除帳號及移除車輛作業處理 」)',\n",
       "    '一、等級：高敏感(核資項目參考備註說明)\\n\\n核資項目：2靜1動\\n\\n服務內容：\\n\\n異動手機號碼(備註：變更原手機號碼(必核)，若無法提供時，客服可委婉引導至門市，若客訴抱怨可詢問主管個案處理。)\\n\\n辦理終止退費轉儲(備註：依辦理終止退費轉儲作業流程辦理，請確認欲轉儲的車號及證號。)\\n\\n查詢通行起訖點/路段明細\\n\\n會員帳號-異動 (移除車輛連結)(備註：需車主或會員帳號本人辦理，若無法核資時，請依「刪除帳號及移除車輛說明」處理)\\n\\n會員帳號-異動 (修改資料、刪除帳號)(備註：需會員本人辦理，需核對「會員帳號、會員證號、會員姓名、電子信箱、行動電話」，若無法核資時，請「依刪除帳號及移除車輛作業處理 」)',\n",
       "    '一、等級：高敏感(核資項目參考備註說明)\\n\\n核資項目：2靜1動\\n\\n服務內容：\\n\\n異動手機號碼(備註：變更原手機號碼(必核)，若無法提供時，客服可委婉引導至門市，若客訴抱怨可詢問主管個案處理。)\\n\\n辦理終止退費轉儲(備註：依辦理終止退費轉儲作業流程辦理，請確認欲轉儲的車號及證號。)\\n\\n查詢通行起訖點/路段明細\\n\\n會員帳號-異動 (移除車輛連結)(備註：需車主或會員帳號本人辦理，若無法核資時，請依「刪除帳號及移除車輛說明」處理)\\n\\n會員帳號-異動 (修改資料、刪除帳號)(備註：需會員本人辦理，需核對「會員帳號、會員證號、會員姓名、電子信箱、行動電話」，若無法核資時，請「依刪除帳號及移除車輛作業處理 」)'],\n",
       "   'response': '根據提供的文件，異動手機號碼需要核對的資料如下：\\n\\n動態資料：[14][23][24]指出，需要核對的資料包括：\\n- 原手機號碼\\n- 新手機號碼\\n\\n靜態資料：[9][18][27]指出，需要核對的資料包括：\\n- 會員帳號\\n- 會員證號\\n- 會員姓名\\n- 電子信箱\\n備註說明：[14][23]指出，如果無法提供手機號碼，客服可委婉引導至門市，若客訴抱怨可詢問主管個案處理。',\n",
       "   'passing': None,\n",
       "   'feedback': 'The question asks for detailed information on what data needs to be verified when changing a mobile phone number, including the number of dynamic and static data points and any additional notes. The provided context contains specific sections that address the verification process for changing a mobile phone number, including the required data points and notes.\\n\\nBased on the context, the relevant information includes the verification items (2 static and 1 dynamic data points) and the specific notes related to changing the mobile phone number.\\n\\nJudgment: ',\n",
       "   'score': 0.5,\n",
       "   'pairwise_source': None,\n",
       "   'invalid_result': False,\n",
       "   'invalid_reason': None,\n",
       "   'relevant_sentence': ['一、等級：高敏感(核資項目參考備註說明)',\n",
       "    '核資項目：2靜1動',\n",
       "    '服務內容：',\n",
       "    '異動手機號碼(備註：變更原手機號碼(必核)，若無法提供時，客服可委婉引導至門市，若客訴抱怨可詢問主管個案處理。',\n",
       "    ')'],\n",
       "   'precision': 1.0,\n",
       "   'all_score': [0.5, 0.5, 0.5]},\n",
       "  {'query': '請問9/19公告有幾筆，公告內容是什麼',\n",
       "   'contexts': ['(1) 「整體施工（工作）計畫」報工務段（中心）。\\n\\n(2)核定「分項施工（工作）計畫」。\\n\\n2.14日內完成初審，並將審查意見填入「審查意見表」（南表01010B），檢附影本併同「整體施工（工作）計畫」及空白「審查意見表」送工務段（中心）轉送養護工程分局相關單位審查。\\n\\n2.14日內完成初審，並將審查意見填入「審查意見表」（南表01010B），檢附影本併同「整體施工（工作）計畫」及空白「審查意見表」送工務段（中心）轉送養護工程分局相關單位審查。\\n\\n4.於收到所有回復之「審查意見表」7日內彙整各單位意見。\\n\\n4.於收到所有回復之「審查意見表」7日內彙整各單位意見。\\n\\n有\\n\\n有\\n\\n無\\n\\n無\\n\\n9.有無修正意見？\\n\\n9.有無修正意見？\\n\\n無\\n\\n無\\n\\n有\\n\\n有\\n\\n5.有無修正意見？\\n\\n5.有無修正意見？\\n\\n監   造 （督）  單   位',\n",
       "    '(1) 「整體施工（工作）計畫」報工務段（中心）。\\n\\n(2)核定「分項施工（工作）計畫」。\\n\\n2.14日內完成初審，並將審查意見填入「審查意見表」（南表01010B），檢附影本併同「整體施工（工作）計畫」及空白「審查意見表」送工務段（中心）轉送養護工程分局相關單位審查。\\n\\n2.14日內完成初審，並將審查意見填入「審查意見表」（南表01010B），檢附影本併同「整體施工（工作）計畫」及空白「審查意見表」送工務段（中心）轉送養護工程分局相關單位審查。\\n\\n4.於收到所有回復之「審查意見表」7日內彙整各單位意見。\\n\\n4.於收到所有回復之「審查意見表」7日內彙整各單位意見。\\n\\n有\\n\\n有\\n\\n無\\n\\n無\\n\\n9.有無修正意見？\\n\\n9.有無修正意見？\\n\\n無\\n\\n無\\n\\n有\\n\\n有\\n\\n5.有無修正意見？\\n\\n5.有無修正意見？\\n\\n監   造 （督）  單   位',\n",
       "    '(1) 「整體施工（工作）計畫」報工務段（中心）。\\n\\n(2)核定「分項施工（工作）計畫」。\\n\\n2.14日內完成初審，並將審查意見填入「審查意見表」（南表01010B），檢附影本併同「整體施工（工作）計畫」及空白「審查意見表」送工務段（中心）轉送養護工程分局相關單位審查。\\n\\n2.14日內完成初審，並將審查意見填入「審查意見表」（南表01010B），檢附影本併同「整體施工（工作）計畫」及空白「審查意見表」送工務段（中心）轉送養護工程分局相關單位審查。\\n\\n4.於收到所有回復之「審查意見表」7日內彙整各單位意見。\\n\\n4.於收到所有回復之「審查意見表」7日內彙整各單位意見。\\n\\n有\\n\\n有\\n\\n無\\n\\n無\\n\\n9.有無修正意見？\\n\\n9.有無修正意見？\\n\\n無\\n\\n無\\n\\n有\\n\\n有\\n\\n5.有無修正意見？\\n\\n5.有無修正意見？\\n\\n監   造 （督）  單   位'],\n",
       "   'response': '根據提供的文件，9/19公告有兩筆，內容如下：\\n\\n1. 2.14日內完成初審，並將審查意見填入「審查意見表」（南表01010B），檢附影本併同「整體施工（工作）計畫」及空白「審查意見表」送工務段（中心）轉送養護工程分局相關單位審查。[24][25]\\n2. 4.於收到所有回復之「審查意見表」7日內彙整各單位意見。[26][27]\\n\\n這兩個公告的主要目的是完成初審和彙整各單位意見。',\n",
       "   'passing': None,\n",
       "   'feedback': 'The question asks for the number of announcements made on 9/19 and their content. The provided context contains repetitive procedural information about construction plans and review processes but does not mention any specific announcements made on 9/19 or their content. Therefore, the question cannot be answered using the given context.',\n",
       "   'score': 0.0,\n",
       "   'pairwise_source': None,\n",
       "   'invalid_result': False,\n",
       "   'invalid_reason': None,\n",
       "   'relevant_sentence': [],\n",
       "   'precision': 0.0,\n",
       "   'all_score': [0.0, 0.0, 0.0]}],\n",
       " 'faithfulness': [{'query': '請詳述異動手機號碼需要核對甚麼資料，如幾個動態資料幾個靜態資料與備註說明?',\n",
       "   'contexts': ['一、等級：高敏感(核資項目參考備註說明)\\n\\n核資項目：2靜1動\\n\\n服務內容：\\n\\n異動手機號碼(備註：變更原手機號碼(必核)，若無法提供時，客服可委婉引導至門市，若客訴抱怨可詢問主管個案處理。)\\n\\n辦理終止退費轉儲(備註：依辦理終止退費轉儲作業流程辦理，請確認欲轉儲的車號及證號。)\\n\\n查詢通行起訖點/路段明細\\n\\n會員帳號-異動 (移除車輛連結)(備註：需車主或會員帳號本人辦理，若無法核資時，請依「刪除帳號及移除車輛說明」處理)\\n\\n會員帳號-異動 (修改資料、刪除帳號)(備註：需會員本人辦理，需核對「會員帳號、會員證號、會員姓名、電子信箱、行動電話」，若無法核資時，請「依刪除帳號及移除車輛作業處理 」)',\n",
       "    '一、等級：高敏感(核資項目參考備註說明)\\n\\n核資項目：2靜1動\\n\\n服務內容：\\n\\n異動手機號碼(備註：變更原手機號碼(必核)，若無法提供時，客服可委婉引導至門市，若客訴抱怨可詢問主管個案處理。)\\n\\n辦理終止退費轉儲(備註：依辦理終止退費轉儲作業流程辦理，請確認欲轉儲的車號及證號。)\\n\\n查詢通行起訖點/路段明細\\n\\n會員帳號-異動 (移除車輛連結)(備註：需車主或會員帳號本人辦理，若無法核資時，請依「刪除帳號及移除車輛說明」處理)\\n\\n會員帳號-異動 (修改資料、刪除帳號)(備註：需會員本人辦理，需核對「會員帳號、會員證號、會員姓名、電子信箱、行動電話」，若無法核資時，請「依刪除帳號及移除車輛作業處理 」)',\n",
       "    '一、等級：高敏感(核資項目參考備註說明)\\n\\n核資項目：2靜1動\\n\\n服務內容：\\n\\n異動手機號碼(備註：變更原手機號碼(必核)，若無法提供時，客服可委婉引導至門市，若客訴抱怨可詢問主管個案處理。)\\n\\n辦理終止退費轉儲(備註：依辦理終止退費轉儲作業流程辦理，請確認欲轉儲的車號及證號。)\\n\\n查詢通行起訖點/路段明細\\n\\n會員帳號-異動 (移除車輛連結)(備註：需車主或會員帳號本人辦理，若無法核資時，請依「刪除帳號及移除車輛說明」處理)\\n\\n會員帳號-異動 (修改資料、刪除帳號)(備註：需會員本人辦理，需核對「會員帳號、會員證號、會員姓名、電子信箱、行動電話」，若無法核資時，請「依刪除帳號及移除車輛作業處理 」)'],\n",
       "   'response': '根據提供的文件，異動手機號碼需要核對的資料如下：\\n\\n動態資料：[14][23][24]指出，需要核對的資料包括：\\n- 原手機號碼\\n- 新手機號碼\\n\\n靜態資料：[9][18][27]指出，需要核對的資料包括：\\n- 會員帳號\\n- 會員證號\\n- 會員姓名\\n- 電子信箱\\n備註說明：[14][23]指出，如果無法提供手機號碼，客服可委婉引導至門市，若客訴抱怨可詢問主管個案處理。',\n",
       "   'passing': None,\n",
       "   'feedback': \"[1] The context explicitly states that changing the mobile number requires verification of the original mobile number.\\n[2] The context does not mention the need to verify the new mobile number when changing the mobile number.\\n[3] The context does not mention the need to verify the member account when changing the mobile number.\\n[4] The context does not mention the need to verify the member certificate number when changing the mobile number.\\n[5] The context does not mention the need to verify the member's name when changing the mobile number.\\n[6] The context does not mention the need to verify the email address when changing the mobile number.\\n[7] The context explicitly states that if the original mobile number cannot be provided, the customer service can gently guide the customer to the store.\\n[8] The context explicitly states that if there are customer complaints, the customer service can ask the supervisor for case handling.\",\n",
       "   'score': 0.375,\n",
       "   'pairwise_source': None,\n",
       "   'invalid_result': False,\n",
       "   'invalid_reason': None,\n",
       "   'statements': '[1] 異動手機號碼需要核對原手機號碼。\\n[2] 異動手機號碼需要核對新手機號碼。\\n[3] 異動手機號碼需要核對會員帳號。\\n[4] 異動手機號碼需要核對會員證號。\\n[5] 異動手機號碼需要核對會員姓名。\\n[6] 異動手機號碼需要核對電子信箱。\\n[7] 如果無法提供手機號碼，客服可委婉引導至門市。\\n[8] 如果有客訴抱怨，客服可詢問主管個案處理。',\n",
       "   'all_score': [1, 0, 0, 0, 0, 0, 1, 1]},\n",
       "  {'query': '請問9/19公告有幾筆，公告內容是什麼',\n",
       "   'contexts': ['(1) 「整體施工（工作）計畫」報工務段（中心）。\\n\\n(2)核定「分項施工（工作）計畫」。\\n\\n2.14日內完成初審，並將審查意見填入「審查意見表」（南表01010B），檢附影本併同「整體施工（工作）計畫」及空白「審查意見表」送工務段（中心）轉送養護工程分局相關單位審查。\\n\\n2.14日內完成初審，並將審查意見填入「審查意見表」（南表01010B），檢附影本併同「整體施工（工作）計畫」及空白「審查意見表」送工務段（中心）轉送養護工程分局相關單位審查。\\n\\n4.於收到所有回復之「審查意見表」7日內彙整各單位意見。\\n\\n4.於收到所有回復之「審查意見表」7日內彙整各單位意見。\\n\\n有\\n\\n有\\n\\n無\\n\\n無\\n\\n9.有無修正意見？\\n\\n9.有無修正意見？\\n\\n無\\n\\n無\\n\\n有\\n\\n有\\n\\n5.有無修正意見？\\n\\n5.有無修正意見？\\n\\n監   造 （督）  單   位',\n",
       "    '(1) 「整體施工（工作）計畫」報工務段（中心）。\\n\\n(2)核定「分項施工（工作）計畫」。\\n\\n2.14日內完成初審，並將審查意見填入「審查意見表」（南表01010B），檢附影本併同「整體施工（工作）計畫」及空白「審查意見表」送工務段（中心）轉送養護工程分局相關單位審查。\\n\\n2.14日內完成初審，並將審查意見填入「審查意見表」（南表01010B），檢附影本併同「整體施工（工作）計畫」及空白「審查意見表」送工務段（中心）轉送養護工程分局相關單位審查。\\n\\n4.於收到所有回復之「審查意見表」7日內彙整各單位意見。\\n\\n4.於收到所有回復之「審查意見表」7日內彙整各單位意見。\\n\\n有\\n\\n有\\n\\n無\\n\\n無\\n\\n9.有無修正意見？\\n\\n9.有無修正意見？\\n\\n無\\n\\n無\\n\\n有\\n\\n有\\n\\n5.有無修正意見？\\n\\n5.有無修正意見？\\n\\n監   造 （督）  單   位',\n",
       "    '(1) 「整體施工（工作）計畫」報工務段（中心）。\\n\\n(2)核定「分項施工（工作）計畫」。\\n\\n2.14日內完成初審，並將審查意見填入「審查意見表」（南表01010B），檢附影本併同「整體施工（工作）計畫」及空白「審查意見表」送工務段（中心）轉送養護工程分局相關單位審查。\\n\\n2.14日內完成初審，並將審查意見填入「審查意見表」（南表01010B），檢附影本併同「整體施工（工作）計畫」及空白「審查意見表」送工務段（中心）轉送養護工程分局相關單位審查。\\n\\n4.於收到所有回復之「審查意見表」7日內彙整各單位意見。\\n\\n4.於收到所有回復之「審查意見表」7日內彙整各單位意見。\\n\\n有\\n\\n有\\n\\n無\\n\\n無\\n\\n9.有無修正意見？\\n\\n9.有無修正意見？\\n\\n無\\n\\n無\\n\\n有\\n\\n有\\n\\n5.有無修正意見？\\n\\n5.有無修正意見？\\n\\n監   造 （督）  單   位'],\n",
       "   'response': '根據提供的文件，9/19公告有兩筆，內容如下：\\n\\n1. 2.14日內完成初審，並將審查意見填入「審查意見表」（南表01010B），檢附影本併同「整體施工（工作）計畫」及空白「審查意見表」送工務段（中心）轉送養護工程分局相關單位審查。[24][25]\\n2. 4.於收到所有回復之「審查意見表」7日內彙整各單位意見。[26][27]\\n\\n這兩個公告的主要目的是完成初審和彙整各單位意見。',\n",
       "   'passing': None,\n",
       "   'feedback': '[1] The context does not provide any specific dates for the announcements. It only describes the procedures and steps involved in the review process.\\n[2] The context describes the procedure of completing the initial review within 14 days and filling out the review comments form, but it does not specify that this is the first announcement on 9/19.\\n[3] The context describes the procedure of compiling opinions within 7 days after receiving all the review comment forms, but it does not specify that this is the second announcement on 9/19.\\n[4] The context describes the steps of completing the initial review and compiling opinions, which aligns with the statement that the main purposes are to complete the initial review and compile opinions.',\n",
       "   'score': 0.25,\n",
       "   'pairwise_source': None,\n",
       "   'invalid_result': False,\n",
       "   'invalid_reason': None,\n",
       "   'statements': '[1] 根據提供的文件，9/19公告有兩筆。\\n[2] 9/19公告的第一筆內容是2.14日內完成初審，並將審查意見填入「審查意見表」（南表01010B），檢附影本併同「整體施工（工作）計畫」及空白「審查意見表」送工務段（中心）轉送養護工程分局相關單位審查。\\n[3] 9/19公告的第二筆內容是於收到所有回復之「審查意見表」7日內彙整各單位意見。\\n[4] 這兩個公告的主要目的是完成初審和彙整各單位意見。',\n",
       "   'all_score': [0, 0, 0, 1]}],\n",
       " 'response_relevance': [{'query': '請詳述異動手機號碼需要核對甚麼資料，如幾個動態資料幾個靜態資料與備註說明?',\n",
       "   'contexts': ['一、等級：高敏感(核資項目參考備註說明)\\n\\n核資項目：2靜1動\\n\\n服務內容：\\n\\n異動手機號碼(備註：變更原手機號碼(必核)，若無法提供時，客服可委婉引導至門市，若客訴抱怨可詢問主管個案處理。)\\n\\n辦理終止退費轉儲(備註：依辦理終止退費轉儲作業流程辦理，請確認欲轉儲的車號及證號。)\\n\\n查詢通行起訖點/路段明細\\n\\n會員帳號-異動 (移除車輛連結)(備註：需車主或會員帳號本人辦理，若無法核資時，請依「刪除帳號及移除車輛說明」處理)\\n\\n會員帳號-異動 (修改資料、刪除帳號)(備註：需會員本人辦理，需核對「會員帳號、會員證號、會員姓名、電子信箱、行動電話」，若無法核資時，請「依刪除帳號及移除車輛作業處理 」)',\n",
       "    '一、等級：高敏感(核資項目參考備註說明)\\n\\n核資項目：2靜1動\\n\\n服務內容：\\n\\n異動手機號碼(備註：變更原手機號碼(必核)，若無法提供時，客服可委婉引導至門市，若客訴抱怨可詢問主管個案處理。)\\n\\n辦理終止退費轉儲(備註：依辦理終止退費轉儲作業流程辦理，請確認欲轉儲的車號及證號。)\\n\\n查詢通行起訖點/路段明細\\n\\n會員帳號-異動 (移除車輛連結)(備註：需車主或會員帳號本人辦理，若無法核資時，請依「刪除帳號及移除車輛說明」處理)\\n\\n會員帳號-異動 (修改資料、刪除帳號)(備註：需會員本人辦理，需核對「會員帳號、會員證號、會員姓名、電子信箱、行動電話」，若無法核資時，請「依刪除帳號及移除車輛作業處理 」)',\n",
       "    '一、等級：高敏感(核資項目參考備註說明)\\n\\n核資項目：2靜1動\\n\\n服務內容：\\n\\n異動手機號碼(備註：變更原手機號碼(必核)，若無法提供時，客服可委婉引導至門市，若客訴抱怨可詢問主管個案處理。)\\n\\n辦理終止退費轉儲(備註：依辦理終止退費轉儲作業流程辦理，請確認欲轉儲的車號及證號。)\\n\\n查詢通行起訖點/路段明細\\n\\n會員帳號-異動 (移除車輛連結)(備註：需車主或會員帳號本人辦理，若無法核資時，請依「刪除帳號及移除車輛說明」處理)\\n\\n會員帳號-異動 (修改資料、刪除帳號)(備註：需會員本人辦理，需核對「會員帳號、會員證號、會員姓名、電子信箱、行動電話」，若無法核資時，請「依刪除帳號及移除車輛作業處理 」)'],\n",
       "   'response': '根據提供的文件，異動手機號碼需要核對的資料如下：\\n\\n動態資料：[14][23][24]指出，需要核對的資料包括：\\n- 原手機號碼\\n- 新手機號碼\\n\\n靜態資料：[9][18][27]指出，需要核對的資料包括：\\n- 會員帳號\\n- 會員證號\\n- 會員姓名\\n- 電子信箱\\n備註說明：[14][23]指出，如果無法提供手機號碼，客服可委婉引導至門市，若客訴抱怨可詢問主管個案處理。',\n",
       "   'passing': None,\n",
       "   'feedback': 'The answer is not noncommittal because it provides specific details about the data required for changing a mobile phone number, including both dynamic and static data, as well as additional instructions if the phone number cannot be provided.',\n",
       "   'score': 0.747,\n",
       "   'pairwise_source': None,\n",
       "   'invalid_result': False,\n",
       "   'invalid_reason': None,\n",
       "   'generated_queries': '[1] 異動手機號碼需要核對哪些動態資料？\\n[2] 異動手機號碼需要核對哪些靜態資料？\\n[3] 如果無法提供手機號碼，客服應該怎麼處理？',\n",
       "   'all_score': [0.8970381921696486, 0.8899291707442923, 0.45445238556431644],\n",
       "   'noncommittal': 0},\n",
       "  {'query': '請問9/19公告有幾筆，公告內容是什麼',\n",
       "   'contexts': ['(1) 「整體施工（工作）計畫」報工務段（中心）。\\n\\n(2)核定「分項施工（工作）計畫」。\\n\\n2.14日內完成初審，並將審查意見填入「審查意見表」（南表01010B），檢附影本併同「整體施工（工作）計畫」及空白「審查意見表」送工務段（中心）轉送養護工程分局相關單位審查。\\n\\n2.14日內完成初審，並將審查意見填入「審查意見表」（南表01010B），檢附影本併同「整體施工（工作）計畫」及空白「審查意見表」送工務段（中心）轉送養護工程分局相關單位審查。\\n\\n4.於收到所有回復之「審查意見表」7日內彙整各單位意見。\\n\\n4.於收到所有回復之「審查意見表」7日內彙整各單位意見。\\n\\n有\\n\\n有\\n\\n無\\n\\n無\\n\\n9.有無修正意見？\\n\\n9.有無修正意見？\\n\\n無\\n\\n無\\n\\n有\\n\\n有\\n\\n5.有無修正意見？\\n\\n5.有無修正意見？\\n\\n監   造 （督）  單   位',\n",
       "    '(1) 「整體施工（工作）計畫」報工務段（中心）。\\n\\n(2)核定「分項施工（工作）計畫」。\\n\\n2.14日內完成初審，並將審查意見填入「審查意見表」（南表01010B），檢附影本併同「整體施工（工作）計畫」及空白「審查意見表」送工務段（中心）轉送養護工程分局相關單位審查。\\n\\n2.14日內完成初審，並將審查意見填入「審查意見表」（南表01010B），檢附影本併同「整體施工（工作）計畫」及空白「審查意見表」送工務段（中心）轉送養護工程分局相關單位審查。\\n\\n4.於收到所有回復之「審查意見表」7日內彙整各單位意見。\\n\\n4.於收到所有回復之「審查意見表」7日內彙整各單位意見。\\n\\n有\\n\\n有\\n\\n無\\n\\n無\\n\\n9.有無修正意見？\\n\\n9.有無修正意見？\\n\\n無\\n\\n無\\n\\n有\\n\\n有\\n\\n5.有無修正意見？\\n\\n5.有無修正意見？\\n\\n監   造 （督）  單   位',\n",
       "    '(1) 「整體施工（工作）計畫」報工務段（中心）。\\n\\n(2)核定「分項施工（工作）計畫」。\\n\\n2.14日內完成初審，並將審查意見填入「審查意見表」（南表01010B），檢附影本併同「整體施工（工作）計畫」及空白「審查意見表」送工務段（中心）轉送養護工程分局相關單位審查。\\n\\n2.14日內完成初審，並將審查意見填入「審查意見表」（南表01010B），檢附影本併同「整體施工（工作）計畫」及空白「審查意見表」送工務段（中心）轉送養護工程分局相關單位審查。\\n\\n4.於收到所有回復之「審查意見表」7日內彙整各單位意見。\\n\\n4.於收到所有回復之「審查意見表」7日內彙整各單位意見。\\n\\n有\\n\\n有\\n\\n無\\n\\n無\\n\\n9.有無修正意見？\\n\\n9.有無修正意見？\\n\\n無\\n\\n無\\n\\n有\\n\\n有\\n\\n5.有無修正意見？\\n\\n5.有無修正意見？\\n\\n監   造 （督）  單   位'],\n",
       "   'response': '根據提供的文件，9/19公告有兩筆，內容如下：\\n\\n1. 2.14日內完成初審，並將審查意見填入「審查意見表」（南表01010B），檢附影本併同「整體施工（工作）計畫」及空白「審查意見表」送工務段（中心）轉送養護工程分局相關單位審查。[24][25]\\n2. 4.於收到所有回復之「審查意見表」7日內彙整各單位意見。[26][27]\\n\\n這兩個公告的主要目的是完成初審和彙整各單位意見。',\n",
       "   'passing': None,\n",
       "   'feedback': 'The answer is not noncommittal because it provides specific information about the two announcements made on 9/19, detailing the steps involved in the initial review and the consolidation of opinions from various units. The questions should be directly related to these details.',\n",
       "   'score': 0.38,\n",
       "   'pairwise_source': None,\n",
       "   'invalid_result': False,\n",
       "   'invalid_reason': None,\n",
       "   'generated_queries': '[1] 9/19公告的主要目的是什麼？\\n[2] 初審需要在多少天內完成？\\n[3] 審查意見需要填入哪個表格？\\n[4] 初審完成後，審查意見表需要送到哪裡？\\n[5] 收到所有回復的審查意見表後，需要在多少天內彙整各單位意見？',\n",
       "   'all_score': [0.7343729812030247,\n",
       "    0.23108293838872454,\n",
       "    0.31513430866246295,\n",
       "    0.31323624784957516,\n",
       "    0.30541711590204973],\n",
       "   'noncommittal': 0}]}"
      ]
     },
     "execution_count": 11,
     "metadata": {},
     "output_type": "execute_result"
    }
   ],
   "source": [
    "rag_eval_by_metric"
   ]
  }
 ],
 "metadata": {
  "kernelspec": {
   "display_name": ".venv",
   "language": "python",
   "name": "python3"
  },
  "language_info": {
   "codemirror_mode": {
    "name": "ipython",
    "version": 3
   },
   "file_extension": ".py",
   "mimetype": "text/x-python",
   "name": "python",
   "nbconvert_exporter": "python",
   "pygments_lexer": "ipython3",
   "version": "3.12.5"
  }
 },
 "nbformat": 4,
 "nbformat_minor": 2
}
